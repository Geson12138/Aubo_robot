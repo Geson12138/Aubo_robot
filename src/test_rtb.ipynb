{
 "cells": [
  {
   "cell_type": "code",
   "execution_count": 5,
   "metadata": {},
   "outputs": [
    {
     "data": {
      "application/vnd.jupyter.widget-view+json": {
       "model_id": "1882453717714105aad32ca713365c73",
       "version_major": 2,
       "version_minor": 0
      },
      "text/plain": [
       "VBox(children=(FloatSlider(value=0.0, description='q1(°)', max=180.0, min=-180.0, step=1.0), FloatSlider(value…"
      ]
     },
     "metadata": {},
     "output_type": "display_data"
    },
    {
     "data": {
      "application/vnd.jupyter.widget-view+json": {
       "model_id": "2005e211facc4251b53e328a8ff39301",
       "version_major": 2,
       "version_minor": 0
      },
      "text/plain": [
       "Output()"
      ]
     },
     "metadata": {},
     "output_type": "display_data"
    }
   ],
   "source": [
    "import numpy as np\n",
    "import math\n",
    "import roboticstoolbox as rtb\n",
    "from roboticstoolbox import DHRobot, RevoluteDH\n",
    "from roboticstoolbox.backends.swift import Swift\n",
    "\n",
    "import ipywidgets as widgets\n",
    "from ipywidgets import FloatSlider, VBox, interactive_output\n",
    "\n",
    "# 如果你想要 matplotlib 图像内嵌\n",
    "%matplotlib inline\n",
    "\n",
    "deg2rad = np.pi / 180.0\n",
    "\n",
    "# -------------------------\n",
    "# 1) 分别创建六个关节\n",
    "#    (标准DH: alpha=alpha_{i-1}, a=a_{i-1}, d=d_i, offset=theta_i初值)\n",
    "# -------------------------\n",
    "joint1 = RevoluteDH(\n",
    "    alpha =   0.0 * deg2rad,  \n",
    "    a     =   0.0,           \n",
    "    d     = 163.2,           \n",
    "    offset= 180.0 * deg2rad  # 初值 180°\n",
    ")\n",
    "\n",
    "joint2 = RevoluteDH(\n",
    "    alpha =  -90.0 * deg2rad,\n",
    "    a     =   0.0,\n",
    "    d     = 201.3,\n",
    "    offset=  -90.0 * deg2rad # 初值 -90°\n",
    ")\n",
    "\n",
    "joint3 = RevoluteDH(\n",
    "    alpha =  180.0 * deg2rad,\n",
    "    a     =  647.0,\n",
    "    d     =    0.0,\n",
    "    offset=    -45.0           # 初值 0°\n",
    ")\n",
    "\n",
    "joint4 = RevoluteDH(\n",
    "    alpha =  180.0 * deg2rad,\n",
    "    a     =  600.5,\n",
    "    d     =    0.0,\n",
    "    offset=  -90.0 * deg2rad # 初值 -90°\n",
    ")\n",
    "\n",
    "joint5 = RevoluteDH(\n",
    "    alpha =  -90.0 * deg2rad,\n",
    "    a     =    0.0,\n",
    "    d     =  102.5,\n",
    "    offset=    0.0           # 初值 0°\n",
    ")\n",
    "\n",
    "joint6 = RevoluteDH(\n",
    "    alpha =   90.0 * deg2rad,\n",
    "    a     =    0.0,\n",
    "    d     =   94.0,\n",
    "    offset=    0.0           # 初值 0°\n",
    ")\n",
    "\n",
    "# -------------------------\n",
    "# 2) 将以上各关节组合成 DHRobot\n",
    "# -------------------------\n",
    "i10_robot = DHRobot(\n",
    "    [joint1, joint2, joint3, joint4, joint5, joint6],\n",
    "    name='i10_DH_model'\n",
    ")\n",
    "\n",
    "# =========== 2) 启动Swift后端 ===========\n",
    "env = Swift()\n",
    "env.launch()      # 可能在VSCode中嵌入, 也可能在新tab/window打开\n",
    "env.add(i10_robot)\n",
    "env.step()\n",
    "\n",
    "# =========== 3) 定义更新函数 ===========\n",
    "def update_robot_swift(q1, q2, q3, q4, q5, q6):\n",
    "    q = [q1*deg2rad, q2*deg2rad, q3*deg2rad,\n",
    "         q4*deg2rad, q5*deg2rad, q6*deg2rad]\n",
    "    i10_robot.q = q\n",
    "    env.step()\n",
    "\n",
    "# =========== 4) 创建 6个滑动条, 绑定到更新函数 ===========\n",
    "slider_q1 = FloatSlider(value=0, min=-180, max=180, step=1, description='q1(°)')\n",
    "slider_q2 = FloatSlider(value=0, min=-180, max=180, step=1, description='q2(°)')\n",
    "slider_q3 = FloatSlider(value=0, min=-180, max=180, step=1, description='q3(°)')\n",
    "slider_q4 = FloatSlider(value=0, min=-180, max=180, step=1, description='q4(°)')\n",
    "slider_q5 = FloatSlider(value=0, min=-180, max=180, step=1, description='q5(°)')\n",
    "slider_q6 = FloatSlider(value=0, min=-180, max=180, step=1, description='q6(°)')\n",
    "\n",
    "ui_box = VBox([slider_q1, slider_q2, slider_q3, slider_q4, slider_q5, slider_q6])\n",
    "out = interactive_output(\n",
    "    update_robot_swift,\n",
    "    {'q1': slider_q1, 'q2': slider_q2, 'q3': slider_q3,\n",
    "     'q4': slider_q4, 'q5': slider_q5, 'q6': slider_q6}\n",
    ")\n",
    "\n",
    "display(ui_box, out)\n"
   ]
  }
 ],
 "metadata": {
  "kernelspec": {
   "display_name": "auborobot",
   "language": "python",
   "name": "python3"
  },
  "language_info": {
   "codemirror_mode": {
    "name": "ipython",
    "version": 3
   },
   "file_extension": ".py",
   "mimetype": "text/x-python",
   "name": "python",
   "nbconvert_exporter": "python",
   "pygments_lexer": "ipython3",
   "version": "3.8.19"
  }
 },
 "nbformat": 4,
 "nbformat_minor": 2
}
